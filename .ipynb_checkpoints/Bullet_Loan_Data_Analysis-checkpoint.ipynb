{
 "cells": [
  {
   "cell_type": "markdown",
   "metadata": {},
   "source": [
    " # Loan Data [(kaggle)](https://www.kaggle.com/zhijinzhai/loandata)\n",
    " ## Overview\n",
    " This data set includes customers who have paid off their loans, who have been past due and put into collection without paying back their loan and interests, and who have paid off only after they were put in collection. The financial product is a bullet loan that customers should pay off all of their loan debt in just one time by the end of the term, instead of an installment schedule. Of course, they could pay off earlier than their pay schedule.\n",
    " \n",
    " ## Data Description\n",
    " - **Loan_id** : A unique loan number assigned to each loan customers\n",
    " - **loan_status** : Whether a loan is paid off, in collection, new customer yet to payoff, or paid off after the collection efforts\n",
    " - **Principal** : Basic principal loan amount at the origination\n",
    " - **terms** : Can be weekly, biweekly, and monthly payoff schedule\n",
    " - **effective_date** : When the loan got originated and took effects\n",
    " - **due_date** : Since it’s one-time payoff schedule, each loan has one single due date\n",
    " - **paidoff_time** : The actual time a customer pays off the loan\n",
    " - **pastdue_days** : How many days a loan has been past due\n",
    " - **age, education, Gender** : A customer’s basic demographic information\n",
    " - **days_since_effective** (added) : How many days it took for customer to pay loan off\n",
    " \n",
    " \n",
    " ## Objective\n",
    "    1. To detect the customer behavior of this financial product\n",
    "    2. Try to pridict whether the loan would be paid off or not\n",
    " \n",
    " ## Procedure\n",
    "    1. EDA\n",
    "    2. Data Cleaning\n",
    "    3. Classification Models "
   ]
  },
  {
   "cell_type": "code",
   "execution_count": 1,
   "metadata": {
    "collapsed": false,
    "scrolled": true
   },
   "outputs": [
    {
     "name": "stdout",
     "output_type": "stream",
     "text": [
      "Populating the interactive namespace from numpy and matplotlib\n"
     ]
    },
    {
     "data": {
      "text/html": [
       "<div>\n",
       "<table border=\"1\" class=\"dataframe\">\n",
       "  <thead>\n",
       "    <tr style=\"text-align: right;\">\n",
       "      <th></th>\n",
       "      <th>Loan_ID</th>\n",
       "      <th>loan_status</th>\n",
       "      <th>Principal</th>\n",
       "      <th>terms</th>\n",
       "      <th>effective_date</th>\n",
       "      <th>due_date</th>\n",
       "      <th>paid_off_time</th>\n",
       "      <th>past_due_days</th>\n",
       "      <th>age</th>\n",
       "      <th>education</th>\n",
       "      <th>Gender</th>\n",
       "    </tr>\n",
       "  </thead>\n",
       "  <tbody>\n",
       "    <tr>\n",
       "      <th>0</th>\n",
       "      <td>xqd20166231</td>\n",
       "      <td>PAIDOFF</td>\n",
       "      <td>1000</td>\n",
       "      <td>30</td>\n",
       "      <td>9/8/2016</td>\n",
       "      <td>10/7/2016</td>\n",
       "      <td>9/14/2016 19:31</td>\n",
       "      <td>NaN</td>\n",
       "      <td>45</td>\n",
       "      <td>High School or Below</td>\n",
       "      <td>male</td>\n",
       "    </tr>\n",
       "    <tr>\n",
       "      <th>1</th>\n",
       "      <td>xqd20168902</td>\n",
       "      <td>PAIDOFF</td>\n",
       "      <td>1000</td>\n",
       "      <td>30</td>\n",
       "      <td>9/8/2016</td>\n",
       "      <td>10/7/2016</td>\n",
       "      <td>10/7/2016 9:00</td>\n",
       "      <td>NaN</td>\n",
       "      <td>50</td>\n",
       "      <td>Bechalor</td>\n",
       "      <td>female</td>\n",
       "    </tr>\n",
       "    <tr>\n",
       "      <th>2</th>\n",
       "      <td>xqd20160003</td>\n",
       "      <td>PAIDOFF</td>\n",
       "      <td>1000</td>\n",
       "      <td>30</td>\n",
       "      <td>9/8/2016</td>\n",
       "      <td>10/7/2016</td>\n",
       "      <td>9/25/2016 16:58</td>\n",
       "      <td>NaN</td>\n",
       "      <td>33</td>\n",
       "      <td>Bechalor</td>\n",
       "      <td>female</td>\n",
       "    </tr>\n",
       "    <tr>\n",
       "      <th>3</th>\n",
       "      <td>xqd20160004</td>\n",
       "      <td>PAIDOFF</td>\n",
       "      <td>1000</td>\n",
       "      <td>15</td>\n",
       "      <td>9/8/2016</td>\n",
       "      <td>9/22/2016</td>\n",
       "      <td>9/22/2016 20:00</td>\n",
       "      <td>NaN</td>\n",
       "      <td>27</td>\n",
       "      <td>college</td>\n",
       "      <td>male</td>\n",
       "    </tr>\n",
       "    <tr>\n",
       "      <th>4</th>\n",
       "      <td>xqd20160005</td>\n",
       "      <td>PAIDOFF</td>\n",
       "      <td>1000</td>\n",
       "      <td>30</td>\n",
       "      <td>9/9/2016</td>\n",
       "      <td>10/8/2016</td>\n",
       "      <td>9/23/2016 21:36</td>\n",
       "      <td>NaN</td>\n",
       "      <td>28</td>\n",
       "      <td>college</td>\n",
       "      <td>female</td>\n",
       "    </tr>\n",
       "  </tbody>\n",
       "</table>\n",
       "</div>"
      ],
      "text/plain": [
       "       Loan_ID loan_status  Principal  terms effective_date   due_date  \\\n",
       "0  xqd20166231     PAIDOFF       1000     30       9/8/2016  10/7/2016   \n",
       "1  xqd20168902     PAIDOFF       1000     30       9/8/2016  10/7/2016   \n",
       "2  xqd20160003     PAIDOFF       1000     30       9/8/2016  10/7/2016   \n",
       "3  xqd20160004     PAIDOFF       1000     15       9/8/2016  9/22/2016   \n",
       "4  xqd20160005     PAIDOFF       1000     30       9/9/2016  10/8/2016   \n",
       "\n",
       "     paid_off_time  past_due_days  age             education  Gender  \n",
       "0  9/14/2016 19:31            NaN   45  High School or Below    male  \n",
       "1   10/7/2016 9:00            NaN   50              Bechalor  female  \n",
       "2  9/25/2016 16:58            NaN   33              Bechalor  female  \n",
       "3  9/22/2016 20:00            NaN   27               college    male  \n",
       "4  9/23/2016 21:36            NaN   28               college  female  "
      ]
     },
     "execution_count": 1,
     "metadata": {},
     "output_type": "execute_result"
    }
   ],
   "source": [
    "import pandas as pd\n",
    "import numpy as np\n",
    "import matplotlib.pyplot as plt\n",
    "import matplotlib as mpl\n",
    "import datetime as dt\n",
    "import seaborn as sns\n",
    "\n",
    "\n",
    "%pylab inline\n",
    "%matplotlib inline\n",
    "\n",
    "data = pd.read_csv('Loan payments data.csv')\n",
    "data.head()"
   ]
  },
  {
   "cell_type": "markdown",
   "metadata": {},
   "source": [
    "#### Those who paid the loan off do not have 'past_due_days'. So, it is NaN "
   ]
  },
  {
   "cell_type": "code",
   "execution_count": 2,
   "metadata": {
    "collapsed": false
   },
   "outputs": [
    {
     "data": {
      "text/plain": [
       "Loan_ID            object\n",
       "loan_status        object\n",
       "Principal           int64\n",
       "terms               int64\n",
       "effective_date     object\n",
       "due_date           object\n",
       "paid_off_time      object\n",
       "past_due_days     float64\n",
       "age                 int64\n",
       "education          object\n",
       "Gender             object\n",
       "dtype: object"
      ]
     },
     "execution_count": 2,
     "metadata": {},
     "output_type": "execute_result"
    }
   ],
   "source": [
    "data.dtypes"
   ]
  },
  {
   "cell_type": "markdown",
   "metadata": {},
   "source": [
    "### Convert 'effective_date', 'paid_off_time','due_date' datatype to \"datetime\""
   ]
  },
  {
   "cell_type": "code",
   "execution_count": 3,
   "metadata": {
    "collapsed": false
   },
   "outputs": [
    {
     "data": {
      "text/plain": [
       "Loan_ID                   object\n",
       "loan_status               object\n",
       "Principal                  int64\n",
       "terms                      int64\n",
       "effective_date    datetime64[ns]\n",
       "due_date          datetime64[ns]\n",
       "paid_off_time     datetime64[ns]\n",
       "past_due_days            float64\n",
       "age                        int64\n",
       "education                 object\n",
       "Gender                    object\n",
       "dtype: object"
      ]
     },
     "execution_count": 3,
     "metadata": {},
     "output_type": "execute_result"
    }
   ],
   "source": [
    "#將'effective_date', 'paid_off_time','due_date'轉型成datetime\n",
    "parse_dates = ['effective_date', 'paid_off_time','due_date']\n",
    "data = pd.read_csv('Loan payments data.csv', parse_dates=parse_dates)\n",
    "data.dtypes"
   ]
  },
  {
   "cell_type": "markdown",
   "metadata": {},
   "source": [
    "## EDA by columns\n",
    "\n",
    "### ・loan_status"
   ]
  },
  {
   "cell_type": "code",
   "execution_count": 4,
   "metadata": {
    "collapsed": false,
    "scrolled": false
   },
   "outputs": [
    {
     "data": {
      "image/png": "[encoded data removed]",
      "text/plain": [
       "<matplotlib.figure.Figure at 0x1061a5ef0>"
      ]
     },
     "metadata": {},
     "output_type": "display_data"
    }
   ],
   "source": [
    "#loan_status\n",
    "fig = plt.figure(figsize=(10,10))\n",
    "ax = sns.countplot(x = 'loan_status', data = data)"
   ]
  },
  {
   "cell_type": "markdown",
   "metadata": {},
   "source": [
    "PAIDOFF means the customer paid the loan off on-time or early while COLLECTION and COLLECTION_PAIDOFF implys the loan is overdue. There seems to be no 'new customer yet to pay off' state as the dataset's content described."
   ]
  },
  {
   "cell_type": "markdown",
   "metadata": {},
   "source": [
    "### ・Principle"
   ]
  },
  {
   "cell_type": "code",
   "execution_count": 5,
   "metadata": {
    "collapsed": false,
    "scrolled": false
   },
   "outputs": [
    {
     "data": {
      "image/png": "[encoded data removed]",
      "text/plain": [
       "<matplotlib.figure.Figure at 0x11049c160>"
      ]
     },
     "metadata": {},
     "output_type": "display_data"
    }
   ],
   "source": [
    "#Principle\n",
    "fig = plt.figure(figsize=(10,10))\n",
    "ax = sns.countplot(x = 'Principal', data = data)"
   ]
  },
  {
   "cell_type": "markdown",
   "metadata": {},
   "source": [
    "The distribution of the principal shows that most loans are at 1000. The unit is unknown."
   ]
  },
  {
   "cell_type": "code",
   "execution_count": 6,
   "metadata": {
    "collapsed": false,
    "scrolled": false
   },
   "outputs": [
    {
     "data": {
      "image/png": "[encoded data removed]",
      "text/plain": [
       "<matplotlib.figure.Figure at 0x112f18208>"
      ]
     },
     "metadata": {},
     "output_type": "display_data"
    }
   ],
   "source": [
    "fig = plt.figure(figsize=(10,10))\n",
    "sns.boxplot(x='loan_status', y='Principal', data=data, hue='loan_status')\n",
    "plt.show()"
   ]
  },
  {
   "cell_type": "markdown",
   "metadata": {},
   "source": [
    "The majority of loans not paid off in-time are the ones that principle is 1000."
   ]
  },
  {
   "cell_type": "markdown",
   "metadata": {},
   "source": [
    "### ・Terms"
   ]
  },
  {
   "cell_type": "code",
   "execution_count": 7,
   "metadata": {
    "collapsed": false
   },
   "outputs": [
    {
     "data": {
      "image/png": "[encoded data removed]",
      "text/plain": [
       "<matplotlib.figure.Figure at 0x112d2c7b8>"
      ]
     },
     "metadata": {},
     "output_type": "display_data"
    }
   ],
   "source": [
    "fig = plt.figure(figsize=(10,10))\n",
    "ax = sns.countplot(x = 'terms', data = data)"
   ]
  },
  {
   "cell_type": "markdown",
   "metadata": {},
   "source": [
    "The 7-days loan is minority"
   ]
  },
  {
   "cell_type": "code",
   "execution_count": 8,
   "metadata": {
    "collapsed": false
   },
   "outputs": [
    {
     "data": {
      "text/plain": [
       "array(['2016-09-08T00:00:00.000000000', '2016-09-09T00:00:00.000000000',\n",
       "       '2016-09-10T00:00:00.000000000', '2016-09-11T00:00:00.000000000',\n",
       "       '2016-09-12T00:00:00.000000000', '2016-09-13T00:00:00.000000000',\n",
       "       '2016-09-14T00:00:00.000000000'], dtype='datetime64[ns]')"
      ]
     },
     "execution_count": 8,
     "metadata": {},
     "output_type": "execute_result"
    }
   ],
   "source": [
    "data['effective_date'].unique()"
   ]
  },
  {
   "cell_type": "markdown",
   "metadata": {},
   "source": [
    "Loans were made within a week in September 2016"
   ]
  },
  {
   "cell_type": "markdown",
   "metadata": {},
   "source": [
    "### Detect Paying Habit\n",
    "#### Add 'paif_off_duration'"
   ]
  },
  {
   "cell_type": "code",
   "execution_count": 9,
   "metadata": {
    "collapsed": false,
    "scrolled": true
   },
   "outputs": [
    {
     "data": {
      "text/html": [
       "<div>\n",
       "<table border=\"1\" class=\"dataframe\">\n",
       "  <thead>\n",
       "    <tr style=\"text-align: right;\">\n",
       "      <th></th>\n",
       "      <th>Loan_ID</th>\n",
       "      <th>loan_status</th>\n",
       "      <th>Principal</th>\n",
       "      <th>terms</th>\n",
       "      <th>effective_date</th>\n",
       "      <th>due_date</th>\n",
       "      <th>paid_off_time</th>\n",
       "      <th>past_due_days</th>\n",
       "      <th>age</th>\n",
       "      <th>education</th>\n",
       "      <th>Gender</th>\n",
       "      <th>paid_off_duration</th>\n",
       "    </tr>\n",
       "  </thead>\n",
       "  <tbody>\n",
       "    <tr>\n",
       "      <th>0</th>\n",
       "      <td>xqd20166231</td>\n",
       "      <td>PAIDOFF</td>\n",
       "      <td>1000</td>\n",
       "      <td>30</td>\n",
       "      <td>2016-09-08</td>\n",
       "      <td>2016-10-07</td>\n",
       "      <td>2016-09-14 19:31:00</td>\n",
       "      <td>NaN</td>\n",
       "      <td>45</td>\n",
       "      <td>High School or Below</td>\n",
       "      <td>male</td>\n",
       "      <td>6.0</td>\n",
       "    </tr>\n",
       "    <tr>\n",
       "      <th>1</th>\n",
       "      <td>xqd20168902</td>\n",
       "      <td>PAIDOFF</td>\n",
       "      <td>1000</td>\n",
       "      <td>30</td>\n",
       "      <td>2016-09-08</td>\n",
       "      <td>2016-10-07</td>\n",
       "      <td>2016-10-07 09:00:00</td>\n",
       "      <td>NaN</td>\n",
       "      <td>50</td>\n",
       "      <td>Bechalor</td>\n",
       "      <td>female</td>\n",
       "      <td>29.0</td>\n",
       "    </tr>\n",
       "    <tr>\n",
       "      <th>2</th>\n",
       "      <td>xqd20160003</td>\n",
       "      <td>PAIDOFF</td>\n",
       "      <td>1000</td>\n",
       "      <td>30</td>\n",
       "      <td>2016-09-08</td>\n",
       "      <td>2016-10-07</td>\n",
       "      <td>2016-09-25 16:58:00</td>\n",
       "      <td>NaN</td>\n",
       "      <td>33</td>\n",
       "      <td>Bechalor</td>\n",
       "      <td>female</td>\n",
       "      <td>17.0</td>\n",
       "    </tr>\n",
       "    <tr>\n",
       "      <th>3</th>\n",
       "      <td>xqd20160004</td>\n",
       "      <td>PAIDOFF</td>\n",
       "      <td>1000</td>\n",
       "      <td>15</td>\n",
       "      <td>2016-09-08</td>\n",
       "      <td>2016-09-22</td>\n",
       "      <td>2016-09-22 20:00:00</td>\n",
       "      <td>NaN</td>\n",
       "      <td>27</td>\n",
       "      <td>college</td>\n",
       "      <td>male</td>\n",
       "      <td>14.0</td>\n",
       "    </tr>\n",
       "    <tr>\n",
       "      <th>4</th>\n",
       "      <td>xqd20160005</td>\n",
       "      <td>PAIDOFF</td>\n",
       "      <td>1000</td>\n",
       "      <td>30</td>\n",
       "      <td>2016-09-09</td>\n",
       "      <td>2016-10-08</td>\n",
       "      <td>2016-09-23 21:36:00</td>\n",
       "      <td>NaN</td>\n",
       "      <td>28</td>\n",
       "      <td>college</td>\n",
       "      <td>female</td>\n",
       "      <td>14.0</td>\n",
       "    </tr>\n",
       "  </tbody>\n",
       "</table>\n",
       "</div>"
      ],
      "text/plain": [
       "       Loan_ID loan_status  Principal  terms effective_date   due_date  \\\n",
       "0  xqd20166231     PAIDOFF       1000     30     2016-09-08 2016-10-07   \n",
       "1  xqd20168902     PAIDOFF       1000     30     2016-09-08 2016-10-07   \n",
       "2  xqd20160003     PAIDOFF       1000     30     2016-09-08 2016-10-07   \n",
       "3  xqd20160004     PAIDOFF       1000     15     2016-09-08 2016-09-22   \n",
       "4  xqd20160005     PAIDOFF       1000     30     2016-09-09 2016-10-08   \n",
       "\n",
       "        paid_off_time  past_due_days  age             education  Gender  \\\n",
       "0 2016-09-14 19:31:00            NaN   45  High School or Below    male   \n",
       "1 2016-10-07 09:00:00            NaN   50              Bechalor  female   \n",
       "2 2016-09-25 16:58:00            NaN   33              Bechalor  female   \n",
       "3 2016-09-22 20:00:00            NaN   27               college    male   \n",
       "4 2016-09-23 21:36:00            NaN   28               college  female   \n",
       "\n",
       "   paid_off_duration  \n",
       "0                6.0  \n",
       "1               29.0  \n",
       "2               17.0  \n",
       "3               14.0  \n",
       "4               14.0  "
      ]
     },
     "execution_count": 9,
     "metadata": {},
     "output_type": "execute_result"
    }
   ],
   "source": [
    "#新增一欄位'paid_off_duration'還款天數\n",
    "data[\"paid_off_duration\"] = data[\"paid_off_time\"] - data[\"effective_date\"]\n",
    "data.paid_off_duration = data.paid_off_duration.astype('timedelta64[D]')\n",
    "data.head()"
   ]
  },
  {
   "cell_type": "code",
   "execution_count": 10,
   "metadata": {
    "collapsed": false,
    "scrolled": true
   },
   "outputs": [
    {
     "data": {
      "image/png": "[encoded data removed]",
      "text/plain": [
       "<matplotlib.figure.Figure at 0x1131b4630>"
      ]
     },
     "metadata": {},
     "output_type": "display_data"
    }
   ],
   "source": [
    "# terms and days since effecrtive date\n",
    "fig = plt.figure(figsize=(20, 7))\n",
    "ax = sns.countplot(x='paid_off_duration', hue='terms', data=data)\n",
    "ax.set_xticklabels(ax.get_xticklabels(), rotation=90)\n",
    "plt.show()"
   ]
  },
  {
   "cell_type": "markdown",
   "metadata": {},
   "source": [
    "People tend to paid off their loans on the last day "
   ]
  },
  {
   "cell_type": "code",
   "execution_count": 11,
   "metadata": {
    "collapsed": false
   },
   "outputs": [
    {
     "data": {
      "image/png": "[encoded data removed]",
      "text/plain": [
       "<matplotlib.figure.Figure at 0x11357c4a8>"
      ]
     },
     "metadata": {},
     "output_type": "display_data"
    }
   ],
   "source": [
    "#檢驗標註為「還清」狀態之還款天數與貸款期限之關係\n",
    "fig = plt.figure(figsize=(20, 7))\n",
    "ax = sns.countplot(x='paid_off_duration', hue='terms', data=data.loc[data.loan_status == 'PAIDOFF'])\n",
    "ax.set_xticklabels(ax.get_xticklabels(), rotation=90)\n",
    "plt.show()"
   ]
  },
  {
   "cell_type": "markdown",
   "metadata": {},
   "source": [
    "Since this chart show the \"PAIDOFF\" loans, the loan paid off after the due date is unreasonable"
   ]
  },
  {
   "cell_type": "code",
   "execution_count": 12,
   "metadata": {
    "collapsed": false
   },
   "outputs": [
    {
     "name": "stdout",
     "output_type": "stream",
     "text": [
      "//30//:     loan_status  terms  paid_off_duration\n",
      "85      PAIDOFF     30               59.0\n",
      "111     PAIDOFF     30               59.0\n",
      "146     PAIDOFF     30               59.0\n",
      "165     PAIDOFF     30               59.0\n",
      "196     PAIDOFF     30               59.0\n",
      "206     PAIDOFF     30               59.0\n",
      "215     PAIDOFF     30               59.0\n",
      "222     PAIDOFF     30               59.0\n",
      "272     PAIDOFF     30               59.0\n",
      "285     PAIDOFF     30               59.0\n",
      "//15//:     loan_status  terms  paid_off_duration\n",
      "11      PAIDOFF     15               29.0\n",
      "122     PAIDOFF     15               44.0\n",
      "137     PAIDOFF     15               44.0\n",
      "150     PAIDOFF     15               44.0\n",
      "230     PAIDOFF     15               44.0\n",
      "238     PAIDOFF     15               29.0\n",
      "//7//:     loan_status  terms  paid_off_duration\n",
      "42      PAIDOFF      7               13.0\n",
      "109     PAIDOFF      7               13.0\n",
      "231     PAIDOFF      7               13.0\n"
     ]
    }
   ],
   "source": [
    "#「還清」狀態 - 各貸款期限之還款天數的不合理資料\n",
    "thirty_tmp = data.loc[(data.paid_off_duration > 30) & (data.loan_status == 'PAIDOFF') & (data.terms == 30)]\n",
    "print(\"//30//:\",thirty_tmp[['loan_status', 'terms' , 'paid_off_duration']])\n",
    "\n",
    "fifteen_temp = data.loc[(data.paid_off_duration > 15) & (data.loan_status == 'PAIDOFF') & (data.terms == 15)]\n",
    "print(\"//15//:\",fifteen_temp[['loan_status', 'terms', 'paid_off_duration']])\n",
    "\n",
    "seven_temp = data.loc[(data.paid_off_duration > 7) & (data.loan_status == 'PAIDOFF') & (data.terms == 7)]\n",
    "print(\"//7//:\",seven_temp[['loan_status', 'terms', 'paid_off_duration']])\n"
   ]
  },
  {
   "cell_type": "markdown",
   "metadata": {},
   "source": [
    "### Data Cleaning\n",
    "correct the unreasonable \"PAIDOFF\" loans to \"COLLECTION_PAIDOFF\""
   ]
  },
  {
   "cell_type": "code",
   "execution_count": 13,
   "metadata": {
    "collapsed": false
   },
   "outputs": [
    {
     "data": {
      "image/png": "[encoded data removed]",
      "text/plain": [
       "<matplotlib.figure.Figure at 0x112d42c88>"
      ]
     },
     "metadata": {},
     "output_type": "display_data"
    }
   ],
   "source": [
    "fig, axs = plt.subplots(1, 2, figsize=(15, 7))\n",
    "sns.countplot(x = 'loan_status', data = data, ax = axs[0])\n",
    "axs[0].set_title(\"Original target labels\")\n",
    "for t in axs[0].patches:\n",
    "    if (np.isnan(float(t.get_height()))):\n",
    "        axs[0].annotate('', (t.get_x(), 0))\n",
    "    else:\n",
    "        axs[0].annotate(str(format(int(t.get_height()), ',d')), (t.get_x(), t.get_height()*1.01))\n",
    "\n",
    "\n",
    "        terms = data.terms.unique()\n",
    "        \n",
    "#更改錯誤資料，並將loan_status轉為int\n",
    "for terms_val in terms:\n",
    "    data.loc[(data.paid_off_duration > terms_val) & (data.loan_status == 'PAIDOFF') & (data.terms == terms_val), 'loan_status'] = 'COLLECTION_PAIDOFF'\n",
    "loan_status_map = {\"PAIDOFF\": 1, \"COLLECTION\": 2,\"COLLECTION_PAIDOFF\": 3  }\n",
    "data['loan_status_trgt'] = data['loan_status'].map(loan_status_map)\n",
    "\n",
    "sns.countplot(x='loan_status_trgt', data=data, ax=axs[1])\n",
    "axs[1].set_title(\"New target labels\")\n",
    "for t in axs[1].patches:\n",
    "    if (np.isnan(float(t.get_height()))):\n",
    "        axs[1].annotate('', (t.get_x(), 0))\n",
    "    else:\n",
    "        axs[1].annotate(str(format(int(t.get_height()), ',d')), (t.get_x(), t.get_height()*1.01))\n",
    "    \n",
    "plt.show();"
   ]
  },
  {
   "cell_type": "code",
   "execution_count": 14,
   "metadata": {
    "collapsed": false
   },
   "outputs": [
    {
     "data": {
      "image/png": "[encoded data removed]",
      "text/plain": [
       "<matplotlib.figure.Figure at 0x1131749e8>"
      ]
     },
     "metadata": {},
     "output_type": "display_data"
    }
   ],
   "source": [
    "#經催繳後還清與否 與 過期天數 之關係\n",
    "fig = plt.figure(figsize=(15,7))\n",
    "ax = sns.countplot(x = 'past_due_days',hue = 'loan_status', data = data)"
   ]
  },
  {
   "cell_type": "markdown",
   "metadata": {},
   "source": [
    "The overdue loans tends to be collected at the very first begining after the due date"
   ]
  },
  {
   "cell_type": "code",
   "execution_count": 15,
   "metadata": {
    "collapsed": false
   },
   "outputs": [
    {
     "data": {
      "image/png": "[encoded data removed]",
      "text/plain": [
       "<matplotlib.figure.Figure at 0x113f54240>"
      ]
     },
     "metadata": {},
     "output_type": "display_data"
    }
   ],
   "source": [
    "#經催繳後還清與否 與 過期天數 之 盒鬚圖\n",
    "fig = plt.figure(figsize=(10,5))\n",
    "ax = sns.boxplot(x = 'loan_status', y = 'past_due_days', hue = 'loan_status',data = data )"
   ]
  },
  {
   "cell_type": "markdown",
   "metadata": {},
   "source": [
    "It is fair to conclude that customers whose loan past the due date over a period of time is unocollectable"
   ]
  },
  {
   "cell_type": "markdown",
   "metadata": {},
   "source": [
    "### ・Age"
   ]
  },
  {
   "cell_type": "code",
   "execution_count": 16,
   "metadata": {
    "collapsed": false
   },
   "outputs": [
    {
     "data": {
      "image/png": "[encoded data removed]",
      "text/plain": [
       "<matplotlib.figure.Figure at 0x1131689b0>"
      ]
     },
     "metadata": {},
     "output_type": "display_data"
    }
   ],
   "source": [
    "fig = plt.figure(figsize=(10,5))\n",
    "sns.distplot(data.age, bins=20, kde=False, rug=True);\n"
   ]
  },
  {
   "cell_type": "code",
   "execution_count": 17,
   "metadata": {
    "collapsed": false,
    "scrolled": false
   },
   "outputs": [
    {
     "data": {
      "image/png": "[encoded data removed]",
      "text/plain": [
       "<matplotlib.figure.Figure at 0x1141884e0>"
      ]
     },
     "metadata": {},
     "output_type": "display_data"
    }
   ],
   "source": [
    "# age on loan_status 盒鬚圖 - 確認準時還款與年齡之關係\n",
    "\n",
    "fig = plt.figure(figsize=(10,10))\n",
    "sns.boxplot(x='loan_status', y='age', data=data, hue='loan_status')\n",
    "plt.show()"
   ]
  },
  {
   "cell_type": "markdown",
   "metadata": {},
   "source": [
    "** age on loan_status : ** no obvious relationship"
   ]
  },
  {
   "cell_type": "markdown",
   "metadata": {},
   "source": [
    "### ・Education"
   ]
  },
  {
   "cell_type": "code",
   "execution_count": 18,
   "metadata": {
    "collapsed": false
   },
   "outputs": [
    {
     "data": {
      "image/png": "[encoded data removed]",
      "text/plain": [
       "<matplotlib.figure.Figure at 0x113524358>"
      ]
     },
     "metadata": {},
     "output_type": "display_data"
    }
   ],
   "source": [
    "fig = plt.figure(figsize=(10,10))\n",
    "ax = sns.countplot(x = 'education', data = data)"
   ]
  },
  {
   "cell_type": "code",
   "execution_count": 19,
   "metadata": {
    "collapsed": false
   },
   "outputs": [
    {
     "data": {
      "image/png": "[encoded data removed]",
      "text/plain": [
       "<matplotlib.figure.Figure at 0x1138f8b38>"
      ]
     },
     "metadata": {},
     "output_type": "display_data"
    }
   ],
   "source": [
    "# education on status 長條圖 - 確認還款與教育程度之關係\n",
    "fig = plt.figure(figsize=(10,10))\n",
    "sns.countplot(x='loan_status', hue='education', data=data)\n",
    "plt.show()"
   ]
  },
  {
   "cell_type": "markdown",
   "metadata": {},
   "source": [
    "**eduaction on loan_status : ** no obvious relationship"
   ]
  },
  {
   "cell_type": "markdown",
   "metadata": {},
   "source": [
    "### ・Gender"
   ]
  },
  {
   "cell_type": "code",
   "execution_count": 20,
   "metadata": {
    "collapsed": false
   },
   "outputs": [
    {
     "data": {
      "image/png": "[encoded data removed]",
      "text/plain": [
       "<matplotlib.figure.Figure at 0x1138f8128>"
      ]
     },
     "metadata": {},
     "output_type": "display_data"
    }
   ],
   "source": [
    "fig = plt.figure(figsize=(10,10))\n",
    "ax = sns.countplot(x = 'Gender', data = data)"
   ]
  },
  {
   "cell_type": "code",
   "execution_count": 21,
   "metadata": {
    "collapsed": false
   },
   "outputs": [
    {
     "data": {
      "image/png": "[encoded data removed]",
      "text/plain": [
       "<matplotlib.figure.Figure at 0x112d41710>"
      ]
     },
     "metadata": {},
     "output_type": "display_data"
    }
   ],
   "source": [
    "male_data = data.loc[data.Gender == \"male\"]\n",
    "male_data\n",
    "fig = plt.figure(figsize = (7,7))\n",
    "ax = male_data.loan_status_trgt.value_counts().plot.pie(autopct='%.2f', fontsize=15)\n",
    "\n",
    "plt.show()"
   ]
  },
  {
   "cell_type": "code",
   "execution_count": 22,
   "metadata": {
    "collapsed": false
   },
   "outputs": [
    {
     "data": {
      "image/png": "[encoded data removed]",
      "text/plain": [
       "<matplotlib.figure.Figure at 0x11310b160>"
      ]
     },
     "metadata": {},
     "output_type": "display_data"
    }
   ],
   "source": [
    "female_data = data.loc[data.Gender == \"female\"]\n",
    "female_data\n",
    "fig = plt.figure(figsize = (7,7))\n",
    "ax = female_data.loan_status_trgt.value_counts().plot.pie(autopct='%.2f', fontsize=15)\n",
    "\n",
    "plt.show()"
   ]
  },
  {
   "cell_type": "markdown",
   "metadata": {},
   "source": [
    "Female's paying habit seems better than male's"
   ]
  },
  {
   "cell_type": "markdown",
   "metadata": {
    "collapsed": false
   },
   "source": [
    "### Convert to numeric data type"
   ]
  },
  {
   "cell_type": "code",
   "execution_count": 23,
   "metadata": {
    "collapsed": false
   },
   "outputs": [
    {
     "data": {
      "text/html": [
       "<div>\n",
       "<table border=\"1\" class=\"dataframe\">\n",
       "  <thead>\n",
       "    <tr style=\"text-align: right;\">\n",
       "      <th></th>\n",
       "      <th>Principal</th>\n",
       "      <th>terms</th>\n",
       "      <th>age</th>\n",
       "      <th>education</th>\n",
       "      <th>Gender</th>\n",
       "      <th>loan_status_trgt</th>\n",
       "    </tr>\n",
       "  </thead>\n",
       "  <tbody>\n",
       "    <tr>\n",
       "      <th>0</th>\n",
       "      <td>1000</td>\n",
       "      <td>30</td>\n",
       "      <td>45</td>\n",
       "      <td>1</td>\n",
       "      <td>1</td>\n",
       "      <td>1</td>\n",
       "    </tr>\n",
       "    <tr>\n",
       "      <th>1</th>\n",
       "      <td>1000</td>\n",
       "      <td>30</td>\n",
       "      <td>50</td>\n",
       "      <td>2</td>\n",
       "      <td>2</td>\n",
       "      <td>1</td>\n",
       "    </tr>\n",
       "    <tr>\n",
       "      <th>2</th>\n",
       "      <td>1000</td>\n",
       "      <td>30</td>\n",
       "      <td>33</td>\n",
       "      <td>2</td>\n",
       "      <td>2</td>\n",
       "      <td>1</td>\n",
       "    </tr>\n",
       "    <tr>\n",
       "      <th>3</th>\n",
       "      <td>1000</td>\n",
       "      <td>15</td>\n",
       "      <td>27</td>\n",
       "      <td>3</td>\n",
       "      <td>1</td>\n",
       "      <td>1</td>\n",
       "    </tr>\n",
       "    <tr>\n",
       "      <th>4</th>\n",
       "      <td>1000</td>\n",
       "      <td>30</td>\n",
       "      <td>28</td>\n",
       "      <td>3</td>\n",
       "      <td>2</td>\n",
       "      <td>1</td>\n",
       "    </tr>\n",
       "  </tbody>\n",
       "</table>\n",
       "</div>"
      ],
      "text/plain": [
       "   Principal  terms  age  education  Gender  loan_status_trgt\n",
       "0       1000     30   45          1       1                 1\n",
       "1       1000     30   50          2       2                 1\n",
       "2       1000     30   33          2       2                 1\n",
       "3       1000     15   27          3       1                 1\n",
       "4       1000     30   28          3       2                 1"
      ]
     },
     "execution_count": 23,
     "metadata": {},
     "output_type": "execute_result"
    }
   ],
   "source": [
    "education_map = {\"High School or Below\": 1, \"Bechalor\": 2,\"college\": 3, 'Master or Above':4  }\n",
    "gender_map = {\"male\": 1, \"female\": 2 }\n",
    "\n",
    "data['education'] = data['education'].map(education_map)\n",
    "data['Gender'] = data['Gender'].map(gender_map)\n",
    "\n",
    "data = data.drop(['Loan_ID', 'loan_status', 'effective_date', 'due_date', 'paid_off_time', 'past_due_days','paid_off_duration'], axis=1)\n",
    "data.head()"
   ]
  },
  {
   "cell_type": "code",
   "execution_count": 24,
   "metadata": {
    "collapsed": false,
    "scrolled": false
   },
   "outputs": [
    {
     "data": {
      "text/html": [
       "<div>\n",
       "<table border=\"1\" class=\"dataframe\">\n",
       "  <thead>\n",
       "    <tr style=\"text-align: right;\">\n",
       "      <th></th>\n",
       "      <th>Principal</th>\n",
       "      <th>terms</th>\n",
       "      <th>age</th>\n",
       "      <th>education</th>\n",
       "      <th>Gender</th>\n",
       "      <th>loan_status_trgt</th>\n",
       "    </tr>\n",
       "  </thead>\n",
       "  <tbody>\n",
       "    <tr>\n",
       "      <th>Principal</th>\n",
       "      <td>1.000000</td>\n",
       "      <td>0.534302</td>\n",
       "      <td>-0.092613</td>\n",
       "      <td>-0.088846</td>\n",
       "      <td>0.008355</td>\n",
       "      <td>0.124996</td>\n",
       "    </tr>\n",
       "    <tr>\n",
       "      <th>terms</th>\n",
       "      <td>0.534302</td>\n",
       "      <td>1.000000</td>\n",
       "      <td>-0.074259</td>\n",
       "      <td>-0.077959</td>\n",
       "      <td>-0.008630</td>\n",
       "      <td>0.082994</td>\n",
       "    </tr>\n",
       "    <tr>\n",
       "      <th>age</th>\n",
       "      <td>-0.092613</td>\n",
       "      <td>-0.074259</td>\n",
       "      <td>1.000000</td>\n",
       "      <td>-0.049286</td>\n",
       "      <td>0.053843</td>\n",
       "      <td>-0.038758</td>\n",
       "    </tr>\n",
       "    <tr>\n",
       "      <th>education</th>\n",
       "      <td>-0.088846</td>\n",
       "      <td>-0.077959</td>\n",
       "      <td>-0.049286</td>\n",
       "      <td>1.000000</td>\n",
       "      <td>-0.005443</td>\n",
       "      <td>0.069112</td>\n",
       "    </tr>\n",
       "    <tr>\n",
       "      <th>Gender</th>\n",
       "      <td>0.008355</td>\n",
       "      <td>-0.008630</td>\n",
       "      <td>0.053843</td>\n",
       "      <td>-0.005443</td>\n",
       "      <td>1.000000</td>\n",
       "      <td>-0.040224</td>\n",
       "    </tr>\n",
       "    <tr>\n",
       "      <th>loan_status_trgt</th>\n",
       "      <td>0.124996</td>\n",
       "      <td>0.082994</td>\n",
       "      <td>-0.038758</td>\n",
       "      <td>0.069112</td>\n",
       "      <td>-0.040224</td>\n",
       "      <td>1.000000</td>\n",
       "    </tr>\n",
       "  </tbody>\n",
       "</table>\n",
       "</div>"
      ],
      "text/plain": [
       "                  Principal     terms       age  education    Gender  \\\n",
       "Principal          1.000000  0.534302 -0.092613  -0.088846  0.008355   \n",
       "terms              0.534302  1.000000 -0.074259  -0.077959 -0.008630   \n",
       "age               -0.092613 -0.074259  1.000000  -0.049286  0.053843   \n",
       "education         -0.088846 -0.077959 -0.049286   1.000000 -0.005443   \n",
       "Gender             0.008355 -0.008630  0.053843  -0.005443  1.000000   \n",
       "loan_status_trgt   0.124996  0.082994 -0.038758   0.069112 -0.040224   \n",
       "\n",
       "                  loan_status_trgt  \n",
       "Principal                 0.124996  \n",
       "terms                     0.082994  \n",
       "age                      -0.038758  \n",
       "education                 0.069112  \n",
       "Gender                   -0.040224  \n",
       "loan_status_trgt          1.000000  "
      ]
     },
     "execution_count": 24,
     "metadata": {},
     "output_type": "execute_result"
    }
   ],
   "source": [
    "data.corr()"
   ]
  },
  {
   "cell_type": "markdown",
   "metadata": {},
   "source": [
    "no significant correlation"
   ]
  },
  {
   "cell_type": "markdown",
   "metadata": {},
   "source": [
    "## Classification Models\n",
    "### ・Evaulation Function"
   ]
  },
  {
   "cell_type": "code",
   "execution_count": 25,
   "metadata": {
    "collapsed": true
   },
   "outputs": [],
   "source": [
    "from sklearn.model_selection import train_test_split\n",
    "from sklearn import svm\n",
    "\n",
    "### Create function to evaluate the score of each classification model\n",
    "def eval_model_classifier(model, data, target, split_ratio):\n",
    "    trainX, testX, trainY, testY = train_test_split(data, target, train_size=split_ratio, random_state=0)\n",
    "    model.fit(trainX, trainY)\n",
    "    print(model.predict(testX))\n",
    "    print(testY)\n",
    "    \n",
    "    return model.score(testX,testY)"
   ]
  },
  {
   "cell_type": "markdown",
   "metadata": {},
   "source": [
    "### ・Support Vector Machine"
   ]
  },
  {
   "cell_type": "code",
   "execution_count": 26,
   "metadata": {
    "collapsed": false,
    "scrolled": true
   },
   "outputs": [
    {
     "name": "stdout",
     "output_type": "stream",
     "text": [
      "[1 1 1 1 1 1 1 1 1 1 1 1 1 1 1 1 1 1 1 1 1 1 1 1 1 1 1 1 1 1 1 1 1 1 1 1 1\n",
      " 1 1 1 1 1 1 1 1 1 1 1 1 1 1 1 1 1 1 1 1 1 1 1 1 1 1 1 1 1 1 1 1 1 1 1 1 1\n",
      " 1 1 1 1 1 1 1 1 1 1 1 1 1 1 1 1 1 1 1 1 1 1 1 1 1 1]\n",
      "90     1\n",
      "254    1\n",
      "283    1\n",
      "445    3\n",
      "461    3\n",
      "15     1\n",
      "316    2\n",
      "489    3\n",
      "159    1\n",
      "153    1\n",
      "241    1\n",
      "250    1\n",
      "390    2\n",
      "289    1\n",
      "171    1\n",
      "329    2\n",
      "468    3\n",
      "355    2\n",
      "154    1\n",
      "37     1\n",
      "205    1\n",
      "366    2\n",
      "240    1\n",
      "108    1\n",
      "45     1\n",
      "438    3\n",
      "21     1\n",
      "367    2\n",
      "96     1\n",
      "233    1\n",
      "      ..\n",
      "142    1\n",
      "65     1\n",
      "340    2\n",
      "484    3\n",
      "175    1\n",
      "362    2\n",
      "264    1\n",
      "100    1\n",
      "491    3\n",
      "295    1\n",
      "300    2\n",
      "235    1\n",
      "475    3\n",
      "219    1\n",
      "330    2\n",
      "326    2\n",
      "421    3\n",
      "157    1\n",
      "348    2\n",
      "54     1\n",
      "220    1\n",
      "402    3\n",
      "379    2\n",
      "200    1\n",
      "179    1\n",
      "372    2\n",
      "56     1\n",
      "440    3\n",
      "60     1\n",
      "208    1\n",
      "Name: loan_status_trgt, dtype: int64\n",
      "0.55\n"
     ]
    }
   ],
   "source": [
    "\n",
    "data_x = data.drop(['loan_status_trgt'], axis=1)\n",
    "data_y = data.loan_status_trgt\n",
    "svc_class = svm.SVC(kernel='linear', random_state=1, C = 1)\n",
    "score = eval_model_classifier(svc_class, data_x, data_y, 0.8)\n",
    "print(score)"
   ]
  },
  {
   "cell_type": "markdown",
   "metadata": {},
   "source": [
    "The score of SVM is not high enough to predict the loan status"
   ]
  },
  {
   "cell_type": "markdown",
   "metadata": {},
   "source": [
    "### ・KNN"
   ]
  },
  {
   "cell_type": "code",
   "execution_count": 27,
   "metadata": {
    "collapsed": false
   },
   "outputs": [
    {
     "name": "stdout",
     "output_type": "stream",
     "text": [
      "[1 1 1 3 1 1 1 1 1 1 1 2 1 1 3 1 1 1 1 1 1 1 1 1 2 3 1 1 1 1 1 1 1 1 3 2 1\n",
      " 2 1 3 1 1 1 1 1 1 1 1 1 1]\n",
      "90     1\n",
      "254    1\n",
      "283    1\n",
      "445    3\n",
      "461    3\n",
      "15     1\n",
      "316    2\n",
      "489    3\n",
      "159    1\n",
      "153    1\n",
      "241    1\n",
      "250    1\n",
      "390    2\n",
      "289    1\n",
      "171    1\n",
      "329    2\n",
      "468    3\n",
      "355    2\n",
      "154    1\n",
      "37     1\n",
      "205    1\n",
      "366    2\n",
      "240    1\n",
      "108    1\n",
      "45     1\n",
      "438    3\n",
      "21     1\n",
      "367    2\n",
      "96     1\n",
      "233    1\n",
      "428    3\n",
      "118    1\n",
      "124    1\n",
      "191    1\n",
      "374    2\n",
      "492    3\n",
      "311    2\n",
      "451    3\n",
      "353    2\n",
      "238    3\n",
      "322    2\n",
      "46     1\n",
      "403    3\n",
      "221    1\n",
      "76     1\n",
      "1      1\n",
      "213    1\n",
      "325    2\n",
      "418    3\n",
      "102    1\n",
      "Name: loan_status_trgt, dtype: int64\n"
     ]
    },
    {
     "data": {
      "text/plain": [
       "0.56000000000000005"
      ]
     },
     "execution_count": 27,
     "metadata": {},
     "output_type": "execute_result"
    }
   ],
   "source": [
    "from sklearn.neighbors import KNeighborsClassifier\n",
    "knn = KNeighborsClassifier()\n",
    "score = eval_model_classifier(knn, data_x, data_y, 0.9)\n",
    "score\n"
   ]
  },
  {
   "cell_type": "markdown",
   "metadata": {},
   "source": [
    "The score of KNN is not high enough to predict the loan status"
   ]
  },
  {
   "cell_type": "markdown",
   "metadata": {
    "collapsed": true
   },
   "source": [
    "## Conclusion\n",
    "### ・People tend to pay their loans on the last day\n",
    "### ・A loan is likely to be uncollectible after due for some time\n",
    "### ・Dataset is too small for learning\n"
   ]
  },
  {
   "cell_type": "code",
   "execution_count": null,
   "metadata": {
    "collapsed": true
   },
   "outputs": [],
   "source": []
  }
 ],
 "metadata": {
  "kernelspec": {
   "display_name": "Python 3",
   "language": "python",
   "name": "python3"
  },
  "language_info": {
   "codemirror_mode": {
    "name": "ipython",
    "version": 3
   },
   "file_extension": ".py",
   "mimetype": "text/x-python",
   "name": "python",
   "nbconvert_exporter": "python",
   "pygments_lexer": "ipython3",
   "version": "3.6.0"
  }
 },
 "nbformat": 4,
 "nbformat_minor": 2
}
